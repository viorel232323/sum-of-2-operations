{
 "cells": [
  {
   "cell_type": "code",
   "execution_count": 1,
   "metadata": {},
   "outputs": [
    {
     "name": "stdout",
     "output_type": "stream",
     "text": [
      "80 + 20 = 100\n",
      "100 - 50 = 50\n",
      "(80 + 20 = 100) + (100 - 50 = 50)= 150\n"
     ]
    }
   ],
   "source": [
    "# if 5 + 2 = 7\n",
    "# and 7 + 2 = 9 \n",
    "# Return True , else return False\n",
    "\n",
    "#First operation\n",
    "a = int(input(\"First operation   First number:\"))        \n",
    "operator = input(\"Insert operator:\\n \")     #input operator (+ , - , * , /)\n",
    "b = int(input(\"Second number: \"))\n",
    "\n",
    "#Second Operation\n",
    "c = int(input(\"First number: \"))        \n",
    "operator2 = input(\"Insert operator\")     #input operator (+ , - , * , /)\n",
    "d = int(input(\"Second number: \"))\n",
    "## First Operation\n",
    "\n",
    "#calculate  a - b and operator sign\n",
    "if operator == \"-\":   \n",
    "    result = a - b\n",
    "    operation = \"-\"\n",
    "#calculate  a + b and operator sign\n",
    "elif operator == \"+\":   \n",
    "    result = a + b\n",
    "    operation = \"+\"\n",
    "#calculate  a * b and operator sign\n",
    "elif operator == \"*\":   \n",
    "    result = a * b\n",
    "    operation = \"*\"\n",
    "#calculate  a / b and operator sign\n",
    "elif operator == \"/\":   \n",
    "    result = a / b\n",
    "    operation = \"/\"\n",
    "else: \n",
    "    result = \"invalid operator\"\n",
    "print(f\"{a} {operation} {b} = {result}\")\n",
    "\n",
    "## Second Operation\n",
    "\n",
    "#calculate  a - b and operator sign\n",
    "if operator2 == \"-\":   \n",
    "    result2 = c - d\n",
    "    operation2 = \"-\"\n",
    "#calculate  a + b and operator sign\n",
    "elif operator2 == \"+\":   \n",
    "    result2= c + d\n",
    "    operation2 = \"+\"\n",
    "#calculate  a * b and operator sign\n",
    "elif operator2 == \"*\":   \n",
    "    result2 = c * d\n",
    "    operation2 = \"*\"\n",
    "#calculate  a / b and operator sign\n",
    "elif operator2 == \"/\":   \n",
    "    result2 = c / d\n",
    "    operation2 = \"/\"\n",
    "else: \n",
    "    result2 = \"invalid operator\"\n",
    "print(f\"{c} {operation2} {d} = {result2}\")\n",
    "\n",
    "# sum of results\n",
    "sum = result + result2 \n",
    "#print first operation \n",
    "#print second operation\n",
    "#sum the results\n",
    "print(f\"({a} {operation} {b} = {result}) + ({c} {operation2} {d} = {result2})= {sum}\")\n"
   ]
  },
  {
   "cell_type": "code",
   "execution_count": null,
   "metadata": {},
   "outputs": [],
   "source": []
  }
 ],
 "metadata": {
  "kernelspec": {
   "display_name": "Python 3",
   "language": "python",
   "name": "python3"
  },
  "language_info": {
   "codemirror_mode": {
    "name": "ipython",
    "version": 3
   },
   "file_extension": ".py",
   "mimetype": "text/x-python",
   "name": "python",
   "nbconvert_exporter": "python",
   "pygments_lexer": "ipython3",
   "version": "3.12.0"
  }
 },
 "nbformat": 4,
 "nbformat_minor": 2
}
